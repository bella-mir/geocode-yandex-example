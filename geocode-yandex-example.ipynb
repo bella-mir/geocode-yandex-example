{
 "cells": [
  {
   "cell_type": "markdown",
   "metadata": {},
   "source": [
    "# Геокодирование на примере Yandex API\n"
   ]
  },
  {
   "cell_type": "markdown",
   "metadata": {},
   "source": [
    "Простыми словами, **геокодирование** – это процесс, когда мы берём адрес или название места и превращаем его в точку на карте.\n",
    "(Если делать наоборот – получать адрес по координатам, это называется **обратное геокодирование**.)\n",
    "\n",
    "Чаще всего геокодирование делается с помощью специального сервиса, к которому мы обращаемся через **API**.\n",
    "\n",
    "🔗 **API** (application programming interface) – это набор инструкций и стандартов, которые позволяют разным программам взаимодействовать друг с другом.\n",
    "Проще говоря, **API – это посредник**, который даёт возможность использовать функционал другой программы.\n",
    "\n",
    "--\n",
    "\n",
    "Процесс геокодирования можно свести к нескольким шагам:\n",
    "\n",
    "1. Пишем запрос к сервису через API (указываем адрес и другие важные параметры)\n",
    "2. Получаем ответ\n",
    "3. Обрабатываем ответ\n",
    "\n",
    "--\n",
    "\n",
    "На **Python** мы отправляем такие запросы с помощью библиотеки **requests**.\n",
    "Если запрос выполнен успешно, мы получаем ответ и дальше работаем с ним: например, вытаскиваем координаты.\n",
    "\n",
    "Куда именно отправлять запрос и какие параметры указывать – всегда написано в **документации к API** (их много разных; часть можно посмотреть [здесь](https://bella-mir.github.io/openSpData/)).\n",
    "\n",
    "--\n",
    "\n",
    "Здесь мы рассмотрим процесс геокодирования на примере **Yandex API**. Перед работой важно ознакомиться с [условиями](https://yandex.ru/dev/commercial/doc/ru/?from=mapsapi) бесплатного использования\n"
   ]
  },
  {
   "cell_type": "markdown",
   "metadata": {},
   "source": [
    "## 0. Импортируем библиотеки\n"
   ]
  },
  {
   "cell_type": "code",
   "execution_count": null,
   "metadata": {
    "tags": [
     "skip-execution"
    ]
   },
   "outputs": [],
   "source": [
    "# Для работ с табличными и пространственными данными\n",
    "\n",
    "import pandas as pd\n",
    "import geopandas as gpd\n",
    "\n",
    "# Для запросов к API\n",
    "import requests\n",
    "import time  # для задержки между запросами, чтобы не заблокировали"
   ]
  },
  {
   "cell_type": "markdown",
   "metadata": {},
   "source": [
    "## 1. Основы геокодирования\n"
   ]
  },
  {
   "cell_type": "markdown",
   "metadata": {},
   "source": [
    "Мы рассмотрим основные шаги геокодирования на примере **Yandex API** для одного адреса:\n",
    "определим параметры запроса, отправим его, разберём, из каких частей состоит ответ, и научимся извлекать из него координаты.\n",
    "\n",
    "Всю информацию о работе с **Yandex API** можно (важно) посмотреть в [документации](https://yandex.ru/maps-api/docs/geocoder-api/index.html)\n"
   ]
  },
  {
   "cell_type": "markdown",
   "metadata": {},
   "source": [
    "### 1.1 Определение параметров для запроса\n"
   ]
  },
  {
   "cell_type": "markdown",
   "metadata": {},
   "source": [
    "Простыми словами запрос – это сообщение, которое мы отправляем какому-то серверу, чтобы получить или передать информацию.\n",
    "\n",
    "Когда мы отправляем запрос, нам нужно объяснить сервису, что именно мы хотим. Для этого мы передаём параметры запроса.\n",
    "\n",
    "В нашем случае параметры будут следующими:\n",
    "\n",
    "- сам **адрес**, который нужно найти\n",
    "- **API-ключ**, чтобы наш запрос был рассмаотрен\n",
    "- в каком **формате** мы хотим получить ответ (JSON или XML)\n",
    "- сколько результатов нам нужно (1 или несколько)\n",
    "- на каком **языке** хотим получить ответ\n"
   ]
  },
  {
   "cell_type": "code",
   "execution_count": null,
   "metadata": {
    "tags": [
     "skip-execution"
    ]
   },
   "outputs": [],
   "source": [
    "API_KEY = 'api_key'  # Ваш API-ключ Яндекс Геокодера\n",
    "\n",
    "params = {\n",
    "    'apikey': API_KEY, # Ключ доступа к API\n",
    "    'geocode': 'Москва, Волхонка, д.12', # Адрес для геокодирования\n",
    "    'format': 'json', # Формат ответа\n",
    "    'results': 1, # Ограничить количество результатов до 1\n",
    "    'lang': 'ru_RU', # Язык ответа\n",
    "}\n",
    "\n",
    "# URL для запроса к Яндекс Геокодеру\n",
    "url = 'https://geocode-maps.yandex.ru/1.x/'\n",
    "\n"
   ]
  },
  {
   "cell_type": "markdown",
   "metadata": {},
   "source": [
    "### 1.2 Отправка запроса\n"
   ]
  },
  {
   "cell_type": "markdown",
   "metadata": {},
   "source": [
    "GET-запрос чаще всего используется, когда мы хотим получить данные (какой именно конкретный тип запроса нужен важно смотреть в [документации](https://yandex.ru/maps-api/docs/geocoder-api/index.html))\n",
    "\n",
    "С помощью библиотеки requests мы отправляем запрос, в котором указываем url и параметры.\n",
    "\n",
    "В ответ мы получаем код статуса - он показывает, как обработан наш запрос.\n",
    "\n",
    "Основные статусы\n",
    "\n",
    "- **200 OK** – всё прошло успешно, данные получены.\n",
    "- **400 Bad Request** – неправильный запрос (например, ошибка в параметрах).\n",
    "- **401 Unauthorized** – нет доступа, нужен правильный API-ключ или токен.\n",
    "- **403 Forbidden** – доступ запрещён, даже если ключ есть.\n",
    "- **404 Not Found** – адрес или ресурс не найден.\n",
    "- **500 Internal Server Error** – ошибка на стороне сервера.\n"
   ]
  },
  {
   "cell_type": "code",
   "execution_count": null,
   "metadata": {
    "tags": [
     "skip-execution"
    ]
   },
   "outputs": [],
   "source": [
    "# Отправляем\n",
    "response = requests.get(url, params=params)\n",
    "\n",
    "# Проверяем ответ\n",
    "if response.status_code == 200:\n",
    "    data = response.json()\n",
    "    print(\"Успешный запрос\")\n",
    "else:\n",
    "    print(\"Ошибка:\", response.status_code)\n",
    "\n"
   ]
  },
  {
   "cell_type": "markdown",
   "metadata": {},
   "source": [
    "### 1.3 Извлечение ответа\n"
   ]
  },
  {
   "cell_type": "markdown",
   "metadata": {},
   "source": [
    "Если запрос прошел успешно, то мы смотрим, что у нас получилось в ответе, и извлекаем из него нужную информацию\n"
   ]
  },
  {
   "cell_type": "code",
   "execution_count": null,
   "metadata": {
    "tags": [
     "skip-execution"
    ]
   },
   "outputs": [],
   "source": [
    "data"
   ]
  },
  {
   "cell_type": "markdown",
   "metadata": {},
   "source": [
    "Давайте создадим DataFrame, в котором будут сохранены адрес, почтовый индекс и координаты\n"
   ]
  },
  {
   "cell_type": "code",
   "execution_count": null,
   "metadata": {
    "tags": [
     "skip-execution"
    ]
   },
   "outputs": [],
   "source": [
    "# Достаем блок GeoObject\n",
    "geo = data['response']['GeoObjectCollection']['featureMember'][0]['GeoObject']\n",
    "\n",
    "# Разбиваем координаты на долготу и широту\n",
    "pos = geo['Point']['pos'].split()\n",
    "lon = float(pos[0])\n",
    "lat = float(pos[1])\n",
    "\n",
    "# Достаем адрес\n",
    "address_meta = geo['metaDataProperty']['GeocoderMetaData']['Address']\n",
    "components = address_meta['Components']\n",
    "\n",
    "# Создаем словарь с нужными полями\n",
    "result = {\n",
    "    'formatted_address': address_meta['formatted'],\n",
    "    'postal_code': address_meta.get('postal_code', None),\n",
    "    'longitude': lon,\n",
    "    'latitude': lat,\n",
    "}\n",
    "\n",
    "\n",
    "# Создаем DataFrame\n",
    "df = pd.DataFrame([result])\n",
    "\n",
    "\n",
    "# Смотрим на результат\n",
    "df"
   ]
  },
  {
   "cell_type": "markdown",
   "metadata": {},
   "source": [
    "### 1.4 Создаем набор пространственных данных\n"
   ]
  },
  {
   "cell_type": "markdown",
   "metadata": {},
   "source": [
    "На основе полученного dataFrame мы можем создать geoDataFrame, используя координаты объекта\n"
   ]
  },
  {
   "cell_type": "code",
   "execution_count": null,
   "metadata": {
    "tags": [
     "skip-execution"
    ]
   },
   "outputs": [],
   "source": [
    "#Создаем geoDataFrame\n",
    "data_gdf = gpd.GeoDataFrame(df, geometry=gpd.points_from_xy(df['longitude'], df['latitude']), crs=4326)\n",
    "\n",
    "data_gdf.head()"
   ]
  },
  {
   "cell_type": "markdown",
   "metadata": {},
   "source": [
    "## 2. Геокодирование данных из таблицы\n"
   ]
  },
  {
   "cell_type": "markdown",
   "metadata": {},
   "source": [
    "У нас довольно редко возникает задача геокодирования **только одного конкретного адреса**. Намного чаще у нас есть **набор адресов** в таблице, которые нужно геокодировать.\n",
    "\n",
    "Давайте посмотрим на небольшом примере (**df_geocode_sample**), как это можно сделать.\n"
   ]
  },
  {
   "cell_type": "markdown",
   "metadata": {},
   "source": [
    "Изучим имеющийся набор данных\n"
   ]
  },
  {
   "cell_type": "code",
   "execution_count": null,
   "metadata": {
    "tags": [
     "skip-execution"
    ]
   },
   "outputs": [],
   "source": [
    "data_sample = pd.read_csv('./df_geocode_sample.csv', sep=';', on_bad_lines='skip')"
   ]
  },
  {
   "cell_type": "markdown",
   "metadata": {},
   "source": [
    "Наша задача остаётся той же, но теперь нам нужно обработать все адреса: отправить для каждого запрос, получить ответ и сохранить координаты.\n"
   ]
  },
  {
   "cell_type": "markdown",
   "metadata": {},
   "source": [
    "### 2.1 Проходим по каждому адресу из таблицы\n"
   ]
  },
  {
   "cell_type": "code",
   "execution_count": null,
   "metadata": {
    "tags": [
     "skip-execution"
    ]
   },
   "outputs": [],
   "source": [
    "# Создаем пустой список для результатов\n",
    "results = []\n",
    "\n",
    "# URL для Яндекс Геокодера\n",
    "url = 'https://geocode-maps.yandex.ru/1.x/'\n",
    "\n",
    "# Общие параметры\n",
    "params = {\n",
    "    'apikey': API_KEY, # Ключ доступа к API\n",
    "    'format': 'json', # Формат ответа\n",
    "    'results': 1, # Ограничить количество результатов до 1\n",
    "    'lang': 'ru_RU', # Язык ответа\n",
    "}\n",
    "\n",
    "# Проходим по каждой строке DataFrame\n",
    "for idx, row in data_sample.head(10).iterrows():\n",
    "    address = row['Address']\n",
    "\n",
    "    # Создаём копию общих параметров и добавляем адрес\n",
    "    params_request = params.copy()\n",
    "    params_request['geocode'] = address\n",
    "\n",
    "    response = requests.get(url, params=params_request)\n",
    "    print(f\"Processing id {row['id']} - status {response.status_code}\")\n",
    "\n",
    "    if response.status_code == 200:\n",
    "        data = response.json()\n",
    "\n",
    "        # Достаем блок GeoObject\n",
    "        geo = data['response']['GeoObjectCollection']['featureMember'][0]['GeoObject']\n",
    "        \n",
    "        # Разбиваем координаты на долготу и широту\n",
    "        pos = geo['Point']['pos'].split()\n",
    "        lon = float(pos[0])\n",
    "        lat = float(pos[1])\n",
    "\n",
    "        # Достаем адрес\n",
    "        address_meta = geo['metaDataProperty']['GeocoderMetaData']['Address']\n",
    "        components = address_meta['Components']\n",
    "\n",
    "        # Создаем словарь с нужными полями\n",
    "        result = {\n",
    "            'id': row['id'],\n",
    "            'name': row['CommonName'],\n",
    "            'input_address': address,\n",
    "            'formatted_address': address_meta['formatted'],\n",
    "            'postal_code': address_meta.get('postal_code', None),\n",
    "            'longitude': lon,\n",
    "            'latitude': lat,\n",
    "            }\n",
    "        \n",
    "        # Добавлем результат в список\n",
    "        results.append(result)\n",
    "        \n",
    "    else:\n",
    "        print(f\"Ошибка запроса для id {row['id']}\")\n",
    "        results.append({\n",
    "            'id': row['id'],\n",
    "            'name': row['CommonName'],\n",
    "            'input_address': address,\n",
    "            'formatted_address': None,\n",
    "            'postal_code': None,\n",
    "            'longitude': None,\n",
    "            'latitude': None,\n",
    "        })\n",
    "\n",
    "    time.sleep(0.2)  # Задержка, чтобы избежать превышения лимитов API\n",
    "\n",
    "# Создаем финальный DataFrame\n",
    "final_df = pd.DataFrame(results)\n",
    "\n",
    "\n"
   ]
  },
  {
   "cell_type": "markdown",
   "metadata": {},
   "source": [
    "### 2.2 Создаем GeoDataFrame на основе полученных координат\n"
   ]
  },
  {
   "cell_type": "code",
   "execution_count": null,
   "metadata": {
    "tags": [
     "skip-execution"
    ]
   },
   "outputs": [],
   "source": [
    "#Убираем строки с пустыми координатами\n",
    "final_df_cleaned = final_df.dropna(subset=['longitude', 'latitude'])\n",
    "\n",
    "#Создаем geoDataFrame\n",
    "final_gdf = gpd.GeoDataFrame(final_df_cleaned, geometry=gpd.points_from_xy(final_df_cleaned['longitude'], final_df_cleaned['latitude']), crs=4326)\n",
    "\n",
    "#Смотрим на результат\n",
    "final_gdf.head()"
   ]
  },
  {
   "cell_type": "markdown",
   "metadata": {},
   "source": [
    "## 3. Функция геокодирования\n"
   ]
  },
  {
   "cell_type": "markdown",
   "metadata": {},
   "source": [
    "Геокодирование – довольно частая задача, и каждый раз записывать все шаги и параметры не очень удобно. Поэтому давайте на основе нашего кода выше напишем **небольшую функцию для геокодирования**, которую можно будет использовать в дальнейшем.\n"
   ]
  },
  {
   "cell_type": "code",
   "execution_count": null,
   "metadata": {
    "tags": [
     "skip-execution"
    ]
   },
   "outputs": [],
   "source": [
    "def geocode_addresses(api_key, df, address_column):\n",
    "    \"\"\"\n",
    "    Геокодирование адресов через Yandex API с выводом GeoDataFrame\n",
    "    \n",
    "    :param api_key: str, API-ключ Яндекса\n",
    "    :param df: pandas.DataFrame, таблица с адресами\n",
    "    :param address_column: str, название столбца с адресами\n",
    "    :return: geopandas.GeoDataFrame, таблица с координатами и геометрией\n",
    "    \"\"\"\n",
    "    \n",
    "    results = []\n",
    "    \n",
    "    url = 'https://geocode-maps.yandex.ru/1.x/'\n",
    "    \n",
    "    # Общие параметры (без адреса)\n",
    "    base_params = {\n",
    "        'apikey': api_key,\n",
    "        'format': 'json',\n",
    "        'results': 1,\n",
    "        'lang': 'ru_RU',\n",
    "    }\n",
    "    \n",
    "    for idx, row in df.iterrows():\n",
    "        address = row[address_column]\n",
    "        \n",
    "        params_request = base_params.copy()\n",
    "        params_request['geocode'] = address\n",
    "        \n",
    "        response = requests.get(url, params=params_request)\n",
    "        print(f\"Processing id {row.get('id', idx)} - status {response.status_code}\")\n",
    "        \n",
    "        if response.status_code == 200:\n",
    "            data = response.json()\n",
    "            try:\n",
    "                geo = data['response']['GeoObjectCollection']['featureMember'][0]['GeoObject']\n",
    "                \n",
    "                pos = geo['Point']['pos'].split()\n",
    "                lon = float(pos[0])\n",
    "                lat = float(pos[1])\n",
    "                \n",
    "                address_meta = geo['metaDataProperty']['GeocoderMetaData']['Address']\n",
    "                \n",
    "                result = {\n",
    "                    'id': row.get('id', idx),\n",
    "                    'input_address': address,\n",
    "                    'formatted_address': address_meta.get('formatted', None),\n",
    "                    'postal_code': address_meta.get('postal_code', None),\n",
    "                    'longitude': lon,\n",
    "                    'latitude': lat,\n",
    "                }\n",
    "                \n",
    "            except IndexError:\n",
    "                print(f\"Адрес не найден: {address}\")\n",
    "                result = {\n",
    "                    'id': row.get('id', idx),\n",
    "                    'input_address': address,\n",
    "                    'formatted_address': None,\n",
    "                    'postal_code': None,\n",
    "                    'longitude': None,\n",
    "                    'latitude': None,\n",
    "                }\n",
    "                \n",
    "        else:\n",
    "            print(f\"Ошибка запроса для id {row.get('id', idx)}\")\n",
    "            result = {\n",
    "                'id': row.get('id', idx),\n",
    "                'input_address': address,\n",
    "                'formatted_address': None,\n",
    "                'postal_code': None,\n",
    "                'longitude': None,\n",
    "                'latitude': None,\n",
    "            }\n",
    "        \n",
    "        results.append(result)\n",
    "        time.sleep(0.2)  # задержка для предотвращения блокировки API\n",
    "    \n",
    "    # Создаём финальный DataFrame\n",
    "    final_df = pd.DataFrame(results)\n",
    "    \n",
    "    # Убираем строки с пустыми координатами\n",
    "    final_df_cleaned = final_df.dropna(subset=['longitude', 'latitude'])\n",
    "    \n",
    "    # Создаём GeoDataFrame\n",
    "    final_gdf = gpd.GeoDataFrame(\n",
    "        final_df_cleaned,\n",
    "        geometry=gpd.points_from_xy(final_df_cleaned['longitude'], final_df_cleaned['latitude']),\n",
    "        crs='EPSG:4326'\n",
    "    )\n",
    "    \n",
    "    return final_gdf"
   ]
  },
  {
   "cell_type": "markdown",
   "metadata": {},
   "source": [
    "Проверим, как работает наша функция на основе нескольких адресаов\n"
   ]
  },
  {
   "cell_type": "code",
   "execution_count": null,
   "metadata": {
    "tags": [
     "skip-execution"
    ]
   },
   "outputs": [],
   "source": [
    "# Запусаем функцию\n",
    "goeocoded = geocode_addresses(API_KEY, data_sample, 'Address')\n",
    "\n",
    "#Смотрим на результат\n",
    "goeocoded.head()"
   ]
  },
  {
   "cell_type": "markdown",
   "metadata": {},
   "source": [
    "## 4. Итог\n"
   ]
  },
  {
   "cell_type": "markdown",
   "metadata": {},
   "source": [
    "На примере **Yandex API** мы научились геокодировать адреса из таблиц, но самое главное – в целом разобрались, как устроен процесс геокодирования.\n",
    "Вы можете использовать такой подход для любых API, изменяя параметры запроса и обработку ответа в соответствии с их документацией.\n",
    "Также **не забывайте проверять лимиты** на количество бесплатных запросов.\n",
    "\n",
    "Успехов!\n"
   ]
  }
 ],
 "metadata": {
  "kernelspec": {
   "display_name": "Python 3",
   "language": "python",
   "name": "python3"
  },
  "language_info": {
   "codemirror_mode": {
    "name": "ipython",
    "version": 3
   },
   "file_extension": ".py",
   "mimetype": "text/x-python",
   "name": "python",
   "nbconvert_exporter": "python",
   "pygments_lexer": "ipython3",
   "version": "3.10.6"
  }
 },
 "nbformat": 4,
 "nbformat_minor": 4
}
